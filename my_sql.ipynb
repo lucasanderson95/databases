{
 "cells": [
  {
   "cell_type": "code",
   "execution_count": null,
   "metadata": {},
   "outputs": [],
   "source": [
    "#!pip install mysql-connector-python\n",
    "\n",
    "import mysql.connector\n",
    "\n",
    "conn = mysql.connector.connect(\n",
    "                host='localhost',\n",
    "                user='root',\n",
    "                password='123456',\n",
    "                database='test_db',\n",
    "                )\n",
    "\n",
    "cursor = conn.cursor(dictionary=True)\n",
    "\n",
    "\n",
    "#sql_command = 'INSERT INTO persons VALUES(1, \"Anderson\", \"Billy\", \"185 West Dr\", \"Dallas\")'\n",
    "#'CREATE TABLE Persons (PersonID int, \n",
    "                # LastName varchar(255), \n",
    "                # FirstName varchar(255), \n",
    "                # Address varchar(255), \n",
    "                # City varchar(255));'\n",
    "\n",
    "#'DELETE FROM persons WHERE PersonID=1'\n",
    "#value1 = exemple1 \n",
    "#value2 = exemple2\n",
    "#f\"INSERT INTO table_name (column1, column2) VALUES ('{value1}', '{value2}')\"\n",
    "\n",
    "#cursor.execute(sql_command)\n",
    "conn.commit()#alteracao\n",
    "\n",
    "cursor.close()\n",
    "conn.close()"
   ]
  },
  {
   "cell_type": "code",
   "execution_count": null,
   "metadata": {},
   "outputs": [],
   "source": [
    "import mysql.connector\n",
    "\n",
    "conn = mysql.connector.connect(\n",
    "                host='localhost',\n",
    "                user='root',\n",
    "                password='123456',\n",
    "                database='test_db',\n",
    "                )\n",
    "cursor = conn.cursor(dictionary=True)\n",
    "\n",
    "sql_command = \"SELECT * FROM persons\"\n",
    "\n",
    "cursor.execute(sql_command)\n",
    "data = cursor.fetchall()#leitura\n",
    "\n",
    "data"
   ]
  }
 ],
 "metadata": {
  "kernelspec": {
   "display_name": "Python 3.10.5 64-bit",
   "language": "python",
   "name": "python3"
  },
  "language_info": {
   "codemirror_mode": {
    "name": "ipython",
    "version": 3
   },
   "file_extension": ".py",
   "mimetype": "text/x-python",
   "name": "python",
   "nbconvert_exporter": "python",
   "pygments_lexer": "ipython3",
   "version": "3.10.5"
  },
  "orig_nbformat": 4,
  "vscode": {
   "interpreter": {
    "hash": "37083a178839ddb6837eca99e3841ef7be6dad5dc50c6d19829e2187d61ddd5d"
   }
  }
 },
 "nbformat": 4,
 "nbformat_minor": 2
}
