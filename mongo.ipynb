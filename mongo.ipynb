{
 "cells": [
  {
   "cell_type": "code",
   "execution_count": 1,
   "metadata": {},
   "outputs": [],
   "source": [
    "import pymongo\n",
    "from pymongo import MongoClient\n",
    "\n",
    "cluster = pymongo.MongoClient(\"mongodb://localhost/\")\n",
    "db = cluster[\"Project\"]\n",
    "collection = db[\"Test\"]"
   ]
  },
  {
   "cell_type": "code",
   "execution_count": 7,
   "metadata": {},
   "outputs": [
    {
     "data": {
      "text/plain": [
       "<pymongo.results.InsertManyResult at 0x199637c0970>"
      ]
     },
     "execution_count": 7,
     "metadata": {},
     "output_type": "execute_result"
    }
   ],
   "source": [
    "#post info\n",
    "post = [\n",
    "    {'_id': 0, 'name': 'Lucas', 'surname': 'Anderson', 'age': 27, 'city': 'Sao Paulo'},\n",
    "    {'_id': 1, 'name': 'Billy', 'surname': 'Anderson', 'age': 43, 'city': 'Sao Paulo'},\n",
    "    {'_id': 2, 'name': 'Dessa', 'surname': 'Anderson', 'age': 33, 'city': 'Sao Paulo'}\n",
    "    ]\n",
    "\n",
    "#post command\n",
    "collection.insert_many(post)"
   ]
  },
  {
   "cell_type": "code",
   "execution_count": 3,
   "metadata": {},
   "outputs": [],
   "source": [
    "#query\n",
    "results = collection.find({\"name\":\"Lucas\"})\n",
    "for result in results:\n",
    "\tprint(result)\n",
    "\tprint(result[\"_id\"])\n",
    "\tprint(result[\"age\"])"
   ]
  },
  {
   "cell_type": "code",
   "execution_count": 5,
   "metadata": {},
   "outputs": [],
   "source": [
    "#delete\n",
    "results = collection.delete_one({\"name\":\"Lucas\"})\n",
    "#results = collection.delete_many({})"
   ]
  },
  {
   "cell_type": "code",
   "execution_count": null,
   "metadata": {},
   "outputs": [],
   "source": [
    "#update field\n",
    "results = collection.update_one({\"_id\":0},{\"$set\":{\"name\":\"Anderson\"}})"
   ]
  },
  {
   "cell_type": "code",
   "execution_count": null,
   "metadata": {},
   "outputs": [],
   "source": [
    "#add field\n",
    "results = collection.update_one({\"_id\":0},{\"$set\":{\"city\":\"Sao Paulo\"}})"
   ]
  },
  {
   "cell_type": "code",
   "execution_count": null,
   "metadata": {},
   "outputs": [],
   "source": [
    "#count\n",
    "post_count = collection.count_documents({})\n",
    "print(post_count)"
   ]
  }
 ],
 "metadata": {
  "kernelspec": {
   "display_name": "Python 3.10.5 64-bit",
   "language": "python",
   "name": "python3"
  },
  "language_info": {
   "codemirror_mode": {
    "name": "ipython",
    "version": 3
   },
   "file_extension": ".py",
   "mimetype": "text/x-python",
   "name": "python",
   "nbconvert_exporter": "python",
   "pygments_lexer": "ipython3",
   "version": "3.10.5"
  },
  "orig_nbformat": 4,
  "vscode": {
   "interpreter": {
    "hash": "37083a178839ddb6837eca99e3841ef7be6dad5dc50c6d19829e2187d61ddd5d"
   }
  }
 },
 "nbformat": 4,
 "nbformat_minor": 2
}
