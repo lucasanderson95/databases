{
 "cells": [
  {
   "cell_type": "code",
   "execution_count": null,
   "metadata": {},
   "outputs": [],
   "source": [
    "import pyodbc\n",
    "import pandas as pd\n",
    "import warnings\n",
    "warnings.filterwarnings(\"ignore\")\n",
    "pd.set_option('display.max_columns', None)\n",
    "pd.set_option('display.max_rows', None)\n",
    "\n",
    "\n",
    "conn = pyodbc.connect (\"Driver={ODBC Driver 17 for SQL Server};\"\n",
    "                       \"Server=DESKTOP-U68VLTP\\SQLEXPRESS;\"\n",
    "                       \"Database=project;\"\n",
    "                       \"Trusted_Connection=yes;\")\n",
    "print(\">>> connection successfully established! <<<\")\n",
    "cursor = conn.cursor()\n"
   ]
  },
  {
   "cell_type": "code",
   "execution_count": null,
   "metadata": {},
   "outputs": [],
   "source": [
    "sql_command = \"\"\"INSERT INTO persons VALUES (2, 'Santos', 'Lucas', 27)\"\"\"\n",
    "    \n",
    "#\"\"\"INSERT INTO persons VALUES (0, 'Lucas', 'Anderson', 27, 'Sao Paulo')\"\"\"\n",
    "\n",
    "#\"\"\"DELETE FROM persons WHERE ID=4\"\"\"\n",
    "\n",
    "#\"\"\"CREATE TABLE Persons (\n",
    "    #ID int NOT NULL PRIMARY KEY,\n",
    "    #LastName varchar(255) NOT NULL,\n",
    "    #FirstName varchar(255),\n",
    "    #Age int);\"\"\"\n",
    "\n",
    "#\"\"\"DROP TABLE persons\"\"\"\n",
    "\n",
    "#\"\"\"ALTER TABLE dbo.products ADD CONSTRAINT FK_Table1_Table2 FOREIGN KEY(product_name) REFERENCES dbo.client(ID)\"\"\"\n",
    "\n",
    "cursor.execute(sql_command)\n",
    "cursor.commit()#alteracao"
   ]
  },
  {
   "cell_type": "code",
   "execution_count": null,
   "metadata": {},
   "outputs": [],
   "source": [
    "(\"\"\"SELECT obj.name AS FK_NAME,\n",
    "        sch.name AS [database_name],\n",
    "        tab1.name AS [table],\n",
    "        col1.name AS [column],\n",
    "        tab2.name AS [referenced_table],\n",
    "        col2.name AS [referenced_column],\n",
    "    FROM sys.foreign_key_column fkc\n",
    "    INNER JOIN sys.object obj\n",
    "        ON obj.object_id = fkc.constraint_object_id\n",
    "    INNER JOIN sys.tables tab1\n",
    "        ON tab1.object_id = fkc.parent_object_id\n",
    "    INNER JOIN sys.schema sch\n",
    "        ON tab1.schema_id = sch.schema_id\n",
    "    INNER JOIN sys.columns col1\n",
    "        ON col1.column_id = parent_column_id col1.object_id = tab1.object_id\n",
    "    INNER JOIN sys.tables tab2\n",
    "        ON tab2.object_id = fkc.referenced_object_id\n",
    "    INNER JOIN sys.columns col2\n",
    "        ON col2.column_id = referenced_column_id AND col2.object_id = tab2.object_id\n",
    "    WHERE tab1.name = 'table_name'\n",
    "    \"\"\", conn)"
   ]
  },
  {
   "cell_type": "code",
   "execution_count": null,
   "metadata": {},
   "outputs": [],
   "source": [
    "query = pd.read_sql(\"SELECT * FROM persons\", conn)\n",
    "data = query.to_dict('records')\n",
    "data"
   ]
  }
 ],
 "metadata": {
  "kernelspec": {
   "display_name": "Python 3.10.5 64-bit",
   "language": "python",
   "name": "python3"
  },
  "language_info": {
   "codemirror_mode": {
    "name": "ipython",
    "version": 3
   },
   "file_extension": ".py",
   "mimetype": "text/x-python",
   "name": "python",
   "nbconvert_exporter": "python",
   "pygments_lexer": "ipython3",
   "version": "3.10.5"
  },
  "orig_nbformat": 4,
  "vscode": {
   "interpreter": {
    "hash": "37083a178839ddb6837eca99e3841ef7be6dad5dc50c6d19829e2187d61ddd5d"
   }
  }
 },
 "nbformat": 4,
 "nbformat_minor": 2
}
